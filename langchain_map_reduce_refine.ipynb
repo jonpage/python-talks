{
 "cells": [
  {
   "attachments": {},
   "cell_type": "markdown",
   "metadata": {},
   "source": [
    "# It's Alive! LangChain Summarization with Map-Reduce and Refine\n",
    "\n",
    "This guide will roughly follow the [Summarization How-To from the LangChain Docs](https://python.langchain.com/en/latest/modules/chains/index_examples/summarize.html).\n",
    "\n",
    "## Setup\n",
    "\n",
    "First we want to install our dependencies and load the OpenAI API key as an environment variable:"
   ]
  },
  {
   "cell_type": "code",
   "execution_count": 1,
   "metadata": {},
   "outputs": [
    {
     "name": "stdout",
     "output_type": "stream",
     "text": [
      "\n",
      "\u001b[1m[\u001b[0m\u001b[34;49mnotice\u001b[0m\u001b[1;39;49m]\u001b[0m\u001b[39;49m A new release of pip available: \u001b[0m\u001b[31;49m22.3.1\u001b[0m\u001b[39;49m -> \u001b[0m\u001b[32;49m23.1.2\u001b[0m\n",
      "\u001b[1m[\u001b[0m\u001b[34;49mnotice\u001b[0m\u001b[1;39;49m]\u001b[0m\u001b[39;49m To update, run: \u001b[0m\u001b[32;49mpython3.11 -m pip install --upgrade pip\u001b[0m\n",
      "Note: you may need to restart the kernel to use updated packages.\n"
     ]
    }
   ],
   "source": [
    "%pip install -r requirements.txt"
   ]
  },
  {
   "cell_type": "code",
   "execution_count": 3,
   "metadata": {},
   "outputs": [
    {
     "data": {
      "text/plain": [
       "True"
      ]
     },
     "execution_count": 3,
     "metadata": {},
     "output_type": "execute_result"
    }
   ],
   "source": [
    "from dotenv import load_dotenv\n",
    "load_dotenv()"
   ]
  },
  {
   "attachments": {},
   "cell_type": "markdown",
   "metadata": {},
   "source": [
    "### Loading in the book Frankenstein"
   ]
  },
  {
   "cell_type": "code",
   "execution_count": 10,
   "metadata": {},
   "outputs": [],
   "source": [
    "from langchain.document_loaders import GutenbergLoader\n",
    "loader = GutenbergLoader(\"https://www.gutenberg.org/cache/epub/84/pg84.txt\")"
   ]
  },
  {
   "cell_type": "code",
   "execution_count": 11,
   "metadata": {},
   "outputs": [],
   "source": [
    "data = loader.load()"
   ]
  },
  {
   "cell_type": "code",
   "execution_count": 14,
   "metadata": {},
   "outputs": [
    {
     "data": {
      "text/plain": [
       "'The Project Gutenberg eBook of Frankenstein, by Mary Wollstonecraft Shelley\\r\\n\\n\\n\\r\\n\\n\\nThis eBook is for the use of anyone anywhere in the United States and\\r\\n\\n\\nmost other parts of the world at no cost and with almost no restrictions\\r\\n\\n\\nwhatsoever. You may copy it, give it away or re-use it under the ter'"
      ]
     },
     "execution_count": 14,
     "metadata": {},
     "output_type": "execute_result"
    }
   ],
   "source": [
    "data[0].page_content[:300]"
   ]
  },
  {
   "attachments": {},
   "cell_type": "markdown",
   "metadata": {},
   "source": [
    "### Splitting the text into smaller chunks"
   ]
  },
  {
   "cell_type": "code",
   "execution_count": 15,
   "metadata": {},
   "outputs": [],
   "source": [
    "from langchain.text_splitter import CharacterTextSplitter\n",
    "import tiktoken"
   ]
  },
  {
   "cell_type": "code",
   "execution_count": 32,
   "metadata": {},
   "outputs": [],
   "source": [
    "enc = tiktoken.encoding_for_model(\"text-davinci-003\")\n",
    "\n",
    "def _tiktoken_encoder(text, **kwargs):\n",
    "  return len(enc.encode(text, **kwargs))\n",
    "\n",
    "text_splitter = CharacterTextSplitter(\n",
    "        chunk_size=1000,\n",
    "        chunk_overlap=0,\n",
    "        separator=\"\\r\\n\\n\\n\\r\\n\\n\\n\", # project gutenberg paragraph separator\n",
    "        length_function=_tiktoken_encoder\n",
    "    )"
   ]
  },
  {
   "cell_type": "code",
   "execution_count": 38,
   "metadata": {},
   "outputs": [],
   "source": [
    "docs = text_splitter.split_documents(data)"
   ]
  },
  {
   "cell_type": "code",
   "execution_count": 39,
   "metadata": {},
   "outputs": [
    {
     "data": {
      "text/plain": [
       "138"
      ]
     },
     "execution_count": 39,
     "metadata": {},
     "output_type": "execute_result"
    }
   ],
   "source": [
    "len(docs)"
   ]
  },
  {
   "cell_type": "code",
   "execution_count": 40,
   "metadata": {},
   "outputs": [
    {
     "data": {
      "text/plain": [
       "Document(page_content='But I have one want which I have never yet been able to satisfy, and the\\r\\n\\n\\nabsence of the object of which I now feel as a most severe evil, I have no\\r\\n\\n\\nfriend, Margaret: when I am glowing with the enthusiasm of success, there\\r\\n\\n\\nwill be none to participate my joy; if I am assailed by disappointment, no\\r\\n\\n\\none will endeavour to sustain me in dejection. I shall commit my thoughts\\r\\n\\n\\nto paper, it is true; but that is a poor medium for the communication of\\r\\n\\n\\nfeeling. I desire the company of a man who could sympathise with me, whose\\r\\n\\n\\neyes would reply to mine. You may deem me romantic, my dear sister, but I\\r\\n\\n\\nbitterly feel the want of a friend. I have no one near me, gentle yet\\r\\n\\n\\ncourageous, possessed of a cultivated as well as of a capacious mind, whose\\r\\n\\n\\ntastes are like my own, to approve or amend my plans. How would such a\\r\\n\\n\\nfriend repair the faults of your poor brother! I am too ardent in execution\\r\\n\\n\\nand too impatient of difficulties. But it is a still greater evil to me\\r\\n\\n\\nthat I am self-educated: for the first fourteen years of my life I ran wild\\r\\n\\n\\non a common and read nothing but our Uncle Thomas’ books of voyages.\\r\\n\\n\\nAt that age I became acquainted with the celebrated poets of our own\\r\\n\\n\\ncountry; but it was only when it had ceased to be in my power to derive its\\r\\n\\n\\nmost important benefits from such a conviction that I perceived the\\r\\n\\n\\nnecessity of becoming acquainted with more languages than that of my native\\r\\n\\n\\ncountry. Now I am twenty-eight and am in reality more illiterate than many\\r\\n\\n\\nschoolboys of fifteen. It is true that I have thought more and that my\\r\\n\\n\\ndaydreams are more extended and magnificent, but they want (as the painters\\r\\n\\n\\ncall it) _keeping;_ and I greatly need a friend who would have sense\\r\\n\\n\\nenough not to despise me as romantic, and affection enough for me to\\r\\n\\n\\nendeavour to regulate my mind.\\r\\n\\n\\n\\r\\n\\n\\nWell, these are useless complaints; I shall certainly find no friend on the\\r\\n\\n\\nwide ocean, nor even here in Archangel, among merchants and seamen. Yet\\r\\n\\n\\nsome feelings, unallied to the dross of human nature, beat even in these\\r\\n\\n\\nrugged bosoms. My lieutenant, for instance, is a man of wonderful courage\\r\\n\\n\\nand enterprise; he is madly desirous of glory, or rather, to word my phrase\\r\\n\\n\\nmore characteristically, of advancement in his profession. He is an\\r\\n\\n\\nEnglishman, and in the midst of national and professional prejudices,\\r\\n\\n\\nunsoftened by cultivation, retains some of the noblest endowments of\\r\\n\\n\\nhumanity. I first became acquainted with him on board a whale vessel;\\r\\n\\n\\nfinding that he was unemployed in this city, I easily engaged him to assist\\r\\n\\n\\nin my enterprise.', metadata={'source': 'https://www.gutenberg.org/cache/epub/84/pg84.txt'})"
      ]
     },
     "execution_count": 40,
     "metadata": {},
     "output_type": "execute_result"
    }
   ],
   "source": [
    "docs[3]"
   ]
  },
  {
   "cell_type": "code",
   "execution_count": 41,
   "metadata": {},
   "outputs": [],
   "source": [
    "# save your pennies\n",
    "docs = docs[:10]"
   ]
  },
  {
   "attachments": {},
   "cell_type": "markdown",
   "metadata": {},
   "source": [
    "### OpenAI Setup"
   ]
  },
  {
   "cell_type": "code",
   "execution_count": 65,
   "metadata": {},
   "outputs": [],
   "source": [
    "from langchain import OpenAI\n",
    "llm = OpenAI(temperature=0, max_tokens=1024)"
   ]
  },
  {
   "attachments": {},
   "cell_type": "markdown",
   "metadata": {},
   "source": [
    "## Summarize with Map-Reduce"
   ]
  },
  {
   "cell_type": "code",
   "execution_count": 45,
   "metadata": {},
   "outputs": [],
   "source": [
    "from langchain import PromptTemplate, LLMChain\n",
    "from langchain.chains.summarize import load_summarize_chain"
   ]
  },
  {
   "cell_type": "code",
   "execution_count": 72,
   "metadata": {},
   "outputs": [
    {
     "data": {
      "text/plain": [
       "\" Robert Walton is a self-educated man of twenty-eight who is embarking on a voyage of discovery to the Arctic. He has hired a vessel and is collecting sailors for his voyage, which he plans to begin in June. He has found a master for his ship who is known for his gentleness and mild discipline, and he has also found a stranger on the ocean who is gradually improving in health. The stranger shares his story with Walton, expressing his grief over his misfortunes and his appreciation of the beauty of nature. Walton hopes that the stranger's story will be useful to him in his own pursuits.\""
      ]
     },
     "execution_count": 72,
     "metadata": {},
     "output_type": "execute_result"
    }
   ],
   "source": [
    "chain = load_summarize_chain(llm, chain_type=\"map_reduce\")\n",
    "map_reduce_summary = chain.run(docs)\n",
    "map_reduce_summary"
   ]
  },
  {
   "attachments": {},
   "cell_type": "markdown",
   "metadata": {},
   "source": [
    "The above took 23 seconds to run producing the following output:\n",
    "\n",
    "> Robert Walton is a self-educated man of twenty-eight who is embarking on a voyage of discovery to the Arctic. He has hired a vessel and is collecting sailors for his voyage, which he plans to begin in June. He has found a master for his ship who is known for his gentleness and mild discipline, and he has also found a stranger on the ocean who is gradually improving in health. The stranger shares his story with Walton, expressing his grief over his misfortunes and his appreciation of the beauty of nature. Walton hopes that the stranger's story will be useful to him in his own pursuits."
   ]
  },
  {
   "attachments": {},
   "cell_type": "markdown",
   "metadata": {},
   "source": [
    "### Customizing Map-Reduce (just prompts)\n",
    "\n",
    "Let's say we want a bulleted list where each chunk is summarized into it's own bullet."
   ]
  },
  {
   "cell_type": "code",
   "execution_count": 56,
   "metadata": {},
   "outputs": [],
   "source": [
    "map_prompt = \"\"\"Write a one sentence summary of the following:\n",
    "\n",
    "{text}\n",
    "\n",
    "ONE-SENTENCE SUMMARY:\"\"\"\n",
    "combine_prompt = \"\"\"Combine the following sentences using bullet points in markdown format:\n",
    "\n",
    "{text}\n",
    "\n",
    "BULLETED LIST:\"\"\"\n",
    "MAP_PROMPT = PromptTemplate(template=map_prompt, input_variables=[\"text\"])\n",
    "COMBINE_PROMPT = PromptTemplate(template=combine_prompt, input_variables=[\"text\"])"
   ]
  },
  {
   "cell_type": "code",
   "execution_count": 67,
   "metadata": {},
   "outputs": [
    {
     "data": {
      "text/plain": [
       "'\\n- Mary Wollstonecraft Shelley\\'s novel \"Frankenstein; or, the Modern Prometheus\" follows the journey of a man who embarks on an enterprise with no disastrous consequences.\\n- Robert Walton has taken a second step towards his enterprise by hiring a vessel and collecting sailors who possess dauntless courage.\\n- Despite his lack of education and lack of a friend to share his joys and sorrows, the protagonist finds a companion in his lieutenant, an Englishman with noble endowments of humanity.\\n- A youth who has been raised in solitude is determined to find a master for his ship who is known for his gentleness, integrity, and courage, and finds one in the form of a noble, uneducated mariner who sacrificed his own happiness for the sake of his beloved.\\n- Robert Walton writes to his sister to assure her of his safety and determination to succeed in his voyage, despite the dangers he faces in the unexplored regions he is exploring.\\n- While on a voyage of discovery towards the northern pole, the crew of a ship encounter a mysterious giant in a sledge, and later rescue a European man from the brink of destruction.\\n- After being rescued from a perilous situation, the stranger is eager to find the man who fled from him, and is comforted by the possibility that he may have reached safety before the ice broke.\\n- Despite his own grief, the stranger has become a source of comfort and understanding for the narrator, who finds himself increasingly drawn to the stranger and his story.\\n- The stranger, who has suffered great misfortunes, offers to tell his story to Captain Walton, hoping that it will provide a moral lesson and console him in case of failure in his own undertaking.'"
      ]
     },
     "execution_count": 67,
     "metadata": {},
     "output_type": "execute_result"
    }
   ],
   "source": [
    "chain = load_summarize_chain(llm, chain_type=\"map_reduce\", map_prompt=MAP_PROMPT, combine_prompt=COMBINE_PROMPT)\n",
    "chain.run(docs)"
   ]
  },
  {
   "attachments": {},
   "cell_type": "markdown",
   "metadata": {},
   "source": [
    "This one took ~ 30 seconds to produce the following output:\n",
    "\n",
    "- Mary Wollstonecraft Shelley's novel \"Frankenstein; or, the Modern Prometheus\" follows the journey of a man who embarks on an enterprise with no disastrous consequences.\n",
    "- Robert Walton has taken a second step towards his enterprise by hiring a vessel and collecting sailors who possess dauntless courage.\n",
    "- Despite his lack of education and lack of a friend to share his joys and sorrows, the protagonist finds a companion in his lieutenant, an Englishman with noble endowments of humanity.\n",
    "- A youth who has been raised in solitude is determined to find a master for his ship who is known for his gentleness, integrity, and courage, and finds one in the form of a noble, uneducated mariner who sacrificed his own happiness for the sake of his beloved.\n",
    "- Robert Walton writes to his sister to assure her of his safety and determination to succeed in his voyage, despite the dangers he faces in the unexplored regions he is exploring.\n",
    "- While on a voyage of discovery towards the northern pole, the crew of a ship encounter a mysterious giant in a sledge, and later rescue a European man from the brink of destruction.\n",
    "- After being rescued from a perilous situation, the stranger is eager to find the man who fled from him, and is comforted by the possibility that he may have reached safety before the ice broke.\n",
    "- Despite his own grief, the stranger has become a source of comfort and understanding for the narrator, who finds himself increasingly drawn to the stranger and his story.\n",
    "- The stranger, who has suffered great misfortunes, offers to tell his story to Captain Walton, hoping that it will provide a moral lesson and console him in case of failure in his own undertaking."
   ]
  },
  {
   "attachments": {},
   "cell_type": "markdown",
   "metadata": {},
   "source": [
    "### Map-Reduce with Custom Chains\n",
    "\n",
    "Our output above would be truncated depending on our token limit. There are many ways to fix this (increasing our token limit, aiming at a model with much larger limits, asking for something shorter, etc.).\n",
    "\n",
    "In this case, we're asking the LLM to concatenate in the reduce steps. There's no real need to have an LLM do this.\n",
    "\n",
    "Let's implement a custom chain that concatenates the provided docs."
   ]
  },
  {
   "cell_type": "code",
   "execution_count": 61,
   "metadata": {},
   "outputs": [],
   "source": [
    "from langchain.docstore.document import Document\n",
    "from langchain.chains.combine_documents.base import BaseCombineDocumentsChain\n",
    "\n",
    "from typing import List, Optional, Any, Tuple\n",
    "\n",
    "class ConcatenateChain(BaseCombineDocumentsChain):\n",
    "\n",
    "    def combine_docs(self, docs: List[Document], **kwargs: Any) -> Tuple[str, dict]:\n",
    "        return \"- \" + \"\\n- \".join([doc.page_content for doc in docs]).strip(), {}\n",
    "\n",
    "    async def acombine_docs(self, docs: List[Document], **kwargs: Any) -> Tuple[str, dict]:\n",
    "        return \"- \" + \"\\n- \".join([doc.page_content for doc in docs]).strip(), {}\n",
    "\n",
    "    def prompt_length(self, _: List[Document], **kwargs: Any) -> Optional[int]:\n",
    "        \"\"\"Return the prompt length given the documents passed in.\n",
    "        Returns None if the method does not depend on the prompt length.\n",
    "        \"\"\"\n",
    "        return None\n",
    "\n",
    "    @property\n",
    "    def _chain_type(self) -> str:\n",
    "        return \"concatenate_chain\""
   ]
  },
  {
   "cell_type": "code",
   "execution_count": 62,
   "metadata": {},
   "outputs": [],
   "source": [
    "from langchain.chains.combine_documents.map_reduce import MapReduceDocumentsChain\n",
    "map_chain = LLMChain(llm=llm, prompt=MAP_PROMPT)\n",
    "map_reduce_chain = MapReduceDocumentsChain(\n",
    "    llm_chain=map_chain,\n",
    "    combine_document_chain=ConcatenateChain()\n",
    ")"
   ]
  },
  {
   "cell_type": "code",
   "execution_count": 63,
   "metadata": {},
   "outputs": [
    {
     "data": {
      "text/plain": [
       "'- Mary Wollstonecraft Shelley\\'s novel \"Frankenstein; or, the Modern Prometheus\" follows the journey of a man who embarks on an enterprise with no disastrous consequences.\\n-  Despite his initial disappointment, the protagonist is inspired by the cold northern breeze to embark on a voyage of discovery to the North Pacific Ocean, driven by his passion for knowledge and the promise of a land of beauty and delight.\\n-  Robert Walton has taken a second step towards his enterprise by hiring a vessel and collecting sailors who possess dauntless courage.\\n-  Despite his lack of formal education, the protagonist is in search of a friend who can sympathize with him and help him regulate his mind, and he finds a potential companion in his lieutenant, an Englishman with noble endowments of humanity.\\n-  A youth who has been raised in solitude is determined to find a master for his ship who is known for his gentleness, integrity, and courage, and finds one in the form of a noble, uneducated mariner who sacrificed his own happiness for the sake of his beloved.\\n-  Robert Walton writes to his sister to assure her of his safety and determination to succeed in his voyage, despite the dangers he faces in the unexplored regions of the sea.\\n-  While on a voyage of discovery towards the northern pole, the crew of a ship encounter a mysterious giant in a sledge, and later rescue a European man from the brink of destruction.\\n-  After being rescued from a perilous situation, the stranger is eager to find the man who fled from him, and is comforted by the possibility that he may have reached safety before the ice broke.\\n-  Despite his own grief, the stranger has become a source of comfort and understanding for the narrator, who finds himself increasingly drawn to the stranger and his story.\\n-  The stranger, who has suffered great misfortunes, offers to tell his story to Captain Walton, hoping that it will provide a moral lesson and console him in case of failure in his own undertaking.'"
      ]
     },
     "execution_count": 63,
     "metadata": {},
     "output_type": "execute_result"
    }
   ],
   "source": [
    "map_reduce_chain.run(docs)"
   ]
  },
  {
   "attachments": {},
   "cell_type": "markdown",
   "metadata": {},
   "source": [
    "The above took 6 seconds to run and produced the following\n",
    "\n",
    "- Mary Wollstonecraft Shelley's novel \"Frankenstein; or, the Modern Prometheus\" follows the journey of a man who embarks on an enterprise with no disastrous consequences.\n",
    "-  Despite his initial disappointment, the protagonist is inspired by the cold northern breeze to embark on a voyage of discovery to the North Pacific Ocean, driven by his passion for knowledge and the promise of a land of beauty and delight.\n",
    "-  Robert Walton has taken a second step towards his enterprise by hiring a vessel and collecting sailors who possess dauntless courage.\n",
    "-  Despite his lack of formal education, the protagonist is in search of a friend who can sympathize with him and help him regulate his mind, and he finds a potential companion in his lieutenant, an Englishman with noble endowments of humanity.\n",
    "-  A youth who has been raised in solitude is determined to find a master for his ship who is known for his gentleness, integrity, and courage, and finds one in the form of a noble, uneducated mariner who sacrificed his own happiness for the sake of his beloved.\n",
    "-  Robert Walton writes to his sister to assure her of his safety and determination to succeed in his voyage, despite the dangers he faces in the unexplored regions of the sea.\n",
    "-  While on a voyage of discovery towards the northern pole, the crew of a ship encounter a mysterious giant in a sledge, and later rescue a European man from the brink of destruction.\n",
    "-  After being rescued from a perilous situation, the stranger is eager to find the man who fled from him, and is comforted by the possibility that he may have reached safety before the ice broke.\n",
    "-  Despite his own grief, the stranger has become a source of comfort and understanding for the narrator, who finds himself increasingly drawn to the stranger and his story.\n",
    "-  The stranger, who has suffered great misfortunes, offers to tell his story to Captain Walton, hoping that it will provide a moral lesson and console him in case of failure in his own undertaking."
   ]
  },
  {
   "attachments": {},
   "cell_type": "markdown",
   "metadata": {},
   "source": [
    "## Refine\n",
    "\n",
    "Let's now compare the results of summary to refine. Refine allows us to create an initial summary and then update it as we go."
   ]
  },
  {
   "cell_type": "code",
   "execution_count": 68,
   "metadata": {},
   "outputs": [
    {
     "data": {
      "text/plain": [
       "\"\\nThe narrator, writing from St. Petersburg, informs his sister that he has arrived safely and is confident in the success of his undertaking. He is the author of the novel Frankenstein; or, The Modern Prometheus, by Mary Wollstonecraft Shelley. He is inspired by the cold northern breeze and his daydreams of discovering a land of beauty and delight beyond the pole. He has dedicated himself to this great enterprise by inuring his body to hardship, accompanying whale-fishers on several expeditions to the North Sea, and voluntarily enduring cold, famine, thirst, and want of sleep. He has twice hired himself as an under-mate in a Greenland whaler and is now preparing to depart for Archangel in a fortnight or three weeks to hire a ship and engage sailors for his voyage. He has secured the services of a master of an excellent disposition and remarkable gentleness and mildness of discipline, whom he heard of in a romantic manner from a lady who owes him the happiness of her life. He hopes to discover the wondrous power that attracts the needle and to regulate celestial observations, and to confer an inestimable benefit on all mankind by discovering a passage near the pole. He expresses his loneliness and lack of companionship, and mentions his lieutenant, an Englishman of great courage and enterprise, whom he met on board a whale vessel and has since employed to assist in his enterprise. He is filled with a passionate enthusiasm for the dangerous mysteries of the ocean and is determined to explore the untamed yet obedient element. He is prepared to face the dangers of the voyage and is hopeful of success, despite the potential risks. After being surrounded by ice and a thick fog, the narrator and his crew witness a strange sight of a low carriage, fixed on a sledge and drawn by dogs, pass on towards the north. They then encounter a European man in a sledge who questions them about their voyage. The narrator reveals that they are on a voyage of discovery towards the northern pole. He expresses his love for his sister and assures her that he will be prudent and cautious in his endeavors. The stranger, who was nearly frozen and emaciated by fatigue and suffering, was brought on board and restored to life. He was filled with a deep gloom and revealed that he was pursuing someone who had fled from him. The narrator and his crew then recall seeing a man in a sledge being pulled by dogs the day before. The stranger was filled with eagerness to be on deck to watch for the sledge, but was too weak to sustain the rawness of the atmosphere. The narrator promises to watch for him and give him instant notice if any new object should appear in sight. The narrator's affection for the stranger grows as he recovers from his illness and the narrator shares his own plans and ambitions with him. The stranger is overwhelmed with emotion and reveals his own story of pursuit and despair. The narrator is moved by the stranger's plight and offers him friendship and understanding. The narrator is determined to explore the untamed yet obedient element of the ocean and is hopeful of success, despite the potential risks. He is also determined to help the stranger in his pursuit and to provide him with the comfort and companionship he needs. The narrator and the stranger share a deep bond of understanding and the narrator is filled with admiration for the stranger's courage and resilience. The narrator is determined to help the stranger in his pursuit and to provide him with the comfort and companionship he needs. He is hopeful that his voyage will be successful and that he will be able to help the stranger in his quest.\""
      ]
     },
     "execution_count": 68,
     "metadata": {},
     "output_type": "execute_result"
    }
   ],
   "source": [
    "chain = load_summarize_chain(llm, chain_type=\"refine\")\n",
    "chain.run(docs)"
   ]
  },
  {
   "attachments": {},
   "cell_type": "markdown",
   "metadata": {},
   "source": [
    "The above took 2 minutes and 50 seconds to run. A key downside of Refine is the requirement of running it sequentially. The Map portion of map-reduce is run in parallel, so it is significantly\n",
    "faster than refine on many documents (even when including collapse steps).\n",
    "\n",
    "Here's the output:\n",
    "\n",
    "> The narrator, writing from St. Petersburg, informs his sister that he has arrived safely and is confident in the success of his undertaking. He is the author of the novel Frankenstein; or, The Modern Prometheus, by Mary Wollstonecraft Shelley. He is inspired by the cold northern breeze and his daydreams of discovering a land of beauty and delight beyond the pole. He has dedicated himself to this great enterprise by inuring his body to hardship, accompanying whale-fishers on several expeditions to the North Sea, and voluntarily enduring cold, famine, thirst, and want of sleep. He has twice hired himself as an under-mate in a Greenland whaler and is now preparing to depart for Archangel in a fortnight or three weeks to hire a ship and engage sailors for his voyage. He has secured the services of a master of an excellent disposition and remarkable gentleness and mildness of discipline, whom he heard of in a romantic manner from a lady who owes him the happiness of her life. He hopes to discover the wondrous power that attracts the needle and to regulate celestial observations, and to confer an inestimable benefit on all mankind by discovering a passage near the pole. He expresses his loneliness and lack of companionship, and mentions his lieutenant, an Englishman of great courage and enterprise, whom he met on board a whale vessel and has since employed to assist in his enterprise. He is filled with a passionate enthusiasm for the dangerous mysteries of the ocean and is determined to explore the untamed yet obedient element. He is prepared to face the dangers of the voyage and is hopeful of success, despite the potential risks. After being surrounded by ice and a thick fog, the narrator and his crew witness a strange sight of a low carriage, fixed on a sledge and drawn by dogs, pass on towards the north. They then encounter a European man in a sledge who questions them about their voyage. The narrator reveals that they are on a voyage of discovery towards the northern pole. He expresses his love for his sister and assures her that he will be prudent and cautious in his endeavors. The stranger, who was nearly frozen and emaciated by fatigue and suffering, was brought on board and restored to life. He was filled with a deep gloom and revealed that he was pursuing someone who had fled from him. The narrator and his crew then recall seeing a man in a sledge being pulled by dogs the day before. The stranger was filled with eagerness to be on deck to watch for the sledge, but was too weak to sustain the rawness of the atmosphere. The narrator promises to watch for him and give him instant notice if any new object should appear in sight. The narrator's affection for the stranger grows as he recovers from his illness and the narrator shares his own plans and ambitions with him. The stranger is overwhelmed with emotion and reveals his own story of pursuit and despair. The narrator is moved by the stranger's plight and offers him friendship and understanding. The narrator is determined to explore the untamed yet obedient element of the ocean and is hopeful of success, despite the potential risks. He is also determined to help the stranger in his pursuit and to provide him with the comfort and companionship he needs. The narrator and the stranger share a deep bond of understanding and the narrator is filled with admiration for the stranger's courage and resilience. The narrator is determined to help the stranger in his pursuit and to provide him with the comfort and companionship he needs. He is hopeful that his voyage will be successful and that he will be able to help the stranger in his quest.\n",
    "\n",
    "\n",
    "### Custom Refine Prompt\n",
    "\n",
    "The idea of refine has some promise, but this summary is way too long. One benefit the map-reduce has is the collapse and combine steps that each are emphasizing the need for a concise summary.\n",
    "\n",
    "The default refine prompt does not include an emphasis on building a concise summary. Let's change that."
   ]
  },
  {
   "cell_type": "code",
   "execution_count": 69,
   "metadata": {},
   "outputs": [],
   "source": [
    "REFINE_PROMPT_TMPL = (\n",
    "    \"Your job is to produce a final concise summary\\n\"\n",
    "    \"We have provided an existing summary up to a certain point: {existing_answer}\\n\"\n",
    "    \"We have the opportunity to refine the existing summary\"\n",
    "    \"(only if needed) with some more context below.\\n\"\n",
    "    \"------------\\n\"\n",
    "    \"{text}\\n\"\n",
    "    \"------------\\n\"\n",
    "    \"Given the new context, refine the original summary\\n\"\n",
    "    \"If the context isn't useful, return the original summary.\\n\"\n",
    "    \"Make sure the result is concise.\"\n",
    ")\n",
    "REFINE_PROMPT = PromptTemplate(\n",
    "    input_variables=[\"existing_answer\", \"text\"],\n",
    "    template=REFINE_PROMPT_TMPL,\n",
    ")"
   ]
  },
  {
   "cell_type": "code",
   "execution_count": 71,
   "metadata": {},
   "outputs": [
    {
     "data": {
      "text/plain": [
       "\"\\n\\nThe narrator, writing from St. Petersburg, assures his sister of his safety and optimism about the success of his undertaking. He is the author of Frankenstein; or, The Modern Prometheus, and is driven by his passion for reading and ambition to obtain a niche in the temple of great poets. He has dedicated himself to a great enterprise of discovering a passage near the pole to those countries, to reach which at present so many months are requisite, or to ascertain the secret of the magnet. He has inured his body to hardship, accompanying whale-fishers on several expeditions to the North Sea and voluntarily enduring cold, famine, thirst, and want of sleep. He has hired a vessel and is collecting sailors for his voyage to the North Pacific Ocean, set to depart in a fortnight or three weeks. Despite his ambition, he laments his lack of a friend to share his joys and sorrows, and has hired an English lieutenant of excellent disposition and remarkable gentleness and mildness of discipline to assist him in his enterprise. He has also encountered a stranger in a wretched condition, whom he has taken on board and cared for. The stranger is searching for someone who fled from him, and the narrator believes they may have seen him in a sledge across the ice. Despite the stranger's silence and unease around others, the narrator has grown to love him like a brother and is deeply moved by his grief. He is also interested in the narrator's project and encourages him to pursue it, expressing his own grief and admiration for the beauty of nature.\""
      ]
     },
     "execution_count": 71,
     "metadata": {},
     "output_type": "execute_result"
    }
   ],
   "source": [
    "refine_chain = load_summarize_chain(llm, chain_type=\"refine\", refine_prompt=REFINE_PROMPT)\n",
    "refine_summary = refine_chain.run(docs)\n",
    "refine_summary"
   ]
  },
  {
   "attachments": {},
   "cell_type": "markdown",
   "metadata": {},
   "source": [
    "The above took 2 minutes and 14 seconds to complete and produced the following:\n",
    "\n",
    "> The narrator, writing from St. Petersburg, assures his sister of his safety and optimism about the success of his undertaking. He is the author of Frankenstein; or, The Modern Prometheus, and is driven by his passion for reading and ambition to obtain a niche in the temple of great poets. He has dedicated himself to a great enterprise of discovering a passage near the pole to those countries, to reach which at present so many months are requisite, or to ascertain the secret of the magnet. He has inured his body to hardship, accompanying whale-fishers on several expeditions to the North Sea and voluntarily enduring cold, famine, thirst, and want of sleep. He has hired a vessel and is collecting sailors for his voyage to the North Pacific Ocean, set to depart in a fortnight or three weeks. Despite his ambition, he laments his lack of a friend to share his joys and sorrows, and has hired an English lieutenant of excellent disposition and remarkable gentleness and mildness of discipline to assist him in his enterprise. He has also encountered a stranger in a wretched condition, whom he has taken on board and cared for. The stranger is searching for someone who fled from him, and the narrator believes they may have seen him in a sledge across the ice. Despite the stranger's silence and unease around others, the narrator has grown to love him like a brother and is deeply moved by his grief. He is also interested in the narrator's project and encourages him to pursue it, expressing his own grief and admiration for the beauty of nature."
   ]
  },
  {
   "attachments": {},
   "cell_type": "markdown",
   "metadata": {},
   "source": [
    "## GPT: Grade Thyself\n",
    "\n",
    "Let's end with having the LLM compare the two final summaries (map-reduce vs refine):"
   ]
  },
  {
   "cell_type": "code",
   "execution_count": 73,
   "metadata": {},
   "outputs": [
    {
     "data": {
      "text/plain": [
       "\"\\n\\nThe two summaries both describe the narrator's journey to the Arctic and his encounters with a stranger. The MAP_REDUCE_SUMMARY focuses on the details of the narrator's preparations for the voyage, such as hiring a vessel and collecting sailors, while the REFINE_SUMMARY focuses on the narrator's motivations for the voyage, his physical endurance, and his relationship with the stranger. The REFINE_SUMMARY also provides more detail about the stranger's story and his appreciation of nature.\""
      ]
     },
     "execution_count": 73,
     "metadata": {},
     "output_type": "execute_result"
    }
   ],
   "source": [
    "llm(\"\"\"Compare the following two summaries:\n",
    "1. MAP_REDUCE_SUMMARY: {map_reduce_summary}\n",
    "\n",
    "2. REFINE_SUMMARY: {refine_summary}\n",
    "\n",
    "Comparison:\"\"\".format(map_reduce_summary=map_reduce_summary, refine_summary=refine_summary))"
   ]
  },
  {
   "attachments": {},
   "cell_type": "markdown",
   "metadata": {},
   "source": [
    "The above took 10 seconds and produced the following:\n",
    "\n",
    "> The two summaries both describe the narrator's journey to the Arctic and his encounters with a stranger. The MAP_REDUCE_SUMMARY focuses on the details of the narrator's preparations for the voyage, such as hiring a vessel and collecting sailors, while the REFINE_SUMMARY focuses on the narrator's motivations for the voyage, his physical endurance, and his relationship with the stranger. The REFINE_SUMMARY also provides more detail about the stranger's story and his appreciation of nature."
   ]
  },
  {
   "cell_type": "markdown",
   "metadata": {},
   "source": [
    "## Prompt Reference\n",
    "\n",
    "Here are some links to the default prompts for reference:\n",
    "\n",
    "- [map_reduce_prompt.py](https://github.com/hwchase17/langchain/blob/master/langchain/chains/summarize/map_reduce_prompt.py)\n",
    "- [refine_prompts.py](https://github.com/hwchase17/langchain/blob/master/langchain/chains/summarize/refine_prompts.py)"
   ]
  }
 ],
 "metadata": {
  "kernelspec": {
   "display_name": "Python 3",
   "language": "python",
   "name": "python3"
  },
  "language_info": {
   "codemirror_mode": {
    "name": "ipython",
    "version": 3
   },
   "file_extension": ".py",
   "mimetype": "text/x-python",
   "name": "python",
   "nbconvert_exporter": "python",
   "pygments_lexer": "ipython3",
   "version": "3.11.2"
  },
  "orig_nbformat": 4
 },
 "nbformat": 4,
 "nbformat_minor": 2
}
